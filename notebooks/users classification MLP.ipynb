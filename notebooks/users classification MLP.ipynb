{
 "cells": [
  {
   "cell_type": "code",
   "execution_count": null,
   "metadata": {},
   "outputs": [],
   "source": [
    "import pandas as pd\n",
    "import matplotlib as plt\n",
    "import seaborn as sns\n",
    "import numpy as np"
   ]
  },
  {
   "cell_type": "code",
   "execution_count": null,
   "metadata": {},
   "outputs": [],
   "source": [
    "#loading data for the user 01, first day frequency data. \n",
    "from scipy.io import loadmat\n",
    "\n",
    "data = loadmat(\"../data/CW-Data/CW-Data/U01_Acc_FreqD_FDay.mat\")\n",
    "# print(data.keys())\n",
    "U01_freq_FD= data['Acc_FD_Feat_Vec']\n",
    "# print(Acc_FD_Feat_Vec)\n",
    "\n",
    "df = pd.DataFrame(U01_freq_FD)\n",
    "\n",
    "df.head()"
   ]
  },
  {
   "cell_type": "code",
   "execution_count": null,
   "metadata": {},
   "outputs": [],
   "source": [
    "df.shape"
   ]
  },
  {
   "cell_type": "code",
   "execution_count": null,
   "metadata": {},
   "outputs": [],
   "source": [
    "#loading data for the user 01, multiple days frequency data. \n",
    "data = loadmat(\"../data/CW-Data/CW-Data/U01_Acc_FreqD_MDay.mat\")\n",
    "print(data.keys())\n",
    "U01_Freq_MD= data['Acc_FD_Feat_Vec']\n",
    "df= pd.DataFrame(U01_Freq_MD)\n",
    "df.head()\n"
   ]
  },
  {
   "cell_type": "markdown",
   "metadata": {},
   "source": [
    "shape of the frequency data are\n",
    "(36,43)"
   ]
  },
  {
   "cell_type": "code",
   "execution_count": null,
   "metadata": {},
   "outputs": [],
   "source": [
    "#loading data for the user 01, first day frequency data. \n",
    "data = loadmat(\"../data/CW-Data/CW-Data/U01_Acc_TimeD_FDay.mat\")\n",
    "print(data.keys())\n",
    "# U01_Time_FD= data['Acc_FD_Feat_Vec']\n",
    "# df= pd.DataFrame(U01_Time_FD)\n",
    "# df.head()"
   ]
  }
 ],
 "metadata": {
  "kernelspec": {
   "display_name": ".venv",
   "language": "python",
   "name": "python3"
  },
  "language_info": {
   "codemirror_mode": {
    "name": "ipython",
    "version": 3
   },
   "file_extension": ".py",
   "mimetype": "text/x-python",
   "name": "python",
   "nbconvert_exporter": "python",
   "pygments_lexer": "ipython3",
   "version": "3.12.1"
  }
 },
 "nbformat": 4,
 "nbformat_minor": 2
}
